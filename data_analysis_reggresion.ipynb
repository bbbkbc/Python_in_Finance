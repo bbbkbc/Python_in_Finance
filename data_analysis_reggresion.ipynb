{
  "nbformat": 4,
  "nbformat_minor": 0,
  "metadata": {
    "kernelspec": {
      "display_name": "Python 3",
      "language": "python",
      "name": "python3"
    },
    "language_info": {
      "codemirror_mode": {
        "name": "ipython",
        "version": 3
      },
      "file_extension": ".py",
      "mimetype": "text/x-python",
      "name": "python",
      "nbconvert_exporter": "python",
      "pygments_lexer": "ipython3",
      "version": "3.7.3"
    },
    "colab": {
      "name": "QD_da_1_Blazej_Stangierski.ipynb",
      "provenance": []
    }
  },
  "cells": [
    {
      "cell_type": "markdown",
      "metadata": {
        "id": "hNkZVWi0I8a0",
        "colab_type": "text"
      },
      "source": [
        "# Data Analysis: Reggresion X->Y"
      ]
    },
    {
      "cell_type": "code",
      "metadata": {
        "id": "m0rOIQ53I8bB",
        "colab_type": "code",
        "colab": {}
      },
      "source": [
        "%matplotlib inline"
      ],
      "execution_count": null,
      "outputs": []
    },
    {
      "cell_type": "code",
      "metadata": {
        "id": "g7qjowjxI8bb",
        "colab_type": "code",
        "colab": {}
      },
      "source": [
        "import pandas as pd\n",
        "import numpy as np\n",
        "import seaborn as sns\n",
        "import matplotlib.pyplot as plt\n",
        "from sklearn import metrics\n",
        "\n",
        "import os"
      ],
      "execution_count": null,
      "outputs": []
    },
    {
      "cell_type": "markdown",
      "metadata": {
        "id": "MyK9L5UKI8b-",
        "colab_type": "text"
      },
      "source": [
        "# training set, which will help me to find proper model"
      ]
    },
    {
      "cell_type": "code",
      "metadata": {
        "id": "4gl0VWaLI8cA",
        "colab_type": "code",
        "colab": {}
      },
      "source": [
        "X = pd.read_hdf(os.path.join(folder_data, \"X.h5\"), \"data\")"
      ],
      "execution_count": null,
      "outputs": []
    },
    {
      "cell_type": "code",
      "metadata": {
        "id": "KV5pEehnI8cN",
        "colab_type": "code",
        "colab": {}
      },
      "source": [
        "Y = pd.read_hdf(os.path.join(folder_data, \"Y.h5\"), \"data\")"
      ],
      "execution_count": null,
      "outputs": []
    },
    {
      "cell_type": "code",
      "metadata": {
        "id": "fpLQ98zfI8cc",
        "colab_type": "code",
        "colab": {},
        "outputId": "929b5216-18db-4bc4-9b87-b96937353721"
      },
      "source": [
        "Y.hist(bins=30)"
      ],
      "execution_count": null,
      "outputs": [
        {
          "output_type": "execute_result",
          "data": {
            "text/plain": [
              "<matplotlib.axes._subplots.AxesSubplot at 0x7f03b8a6a6a0>"
            ]
          },
          "metadata": {
            "tags": []
          },
          "execution_count": 169
        },
        {
          "output_type": "display_data",
          "data": {
            "image/png": "[encoded data removed]",
            "text/plain": [
              "<Figure size 432x288 with 1 Axes>"
            ]
          },
          "metadata": {
            "tags": [],
            "needs_background": "light"
          }
        }
      ]
    },
    {
      "cell_type": "code",
      "metadata": {
        "id": "eqslMR6jI8cs",
        "colab_type": "code",
        "colab": {},
        "outputId": "0c63f83b-7117-474f-f8b0-70c9f6d37eb3"
      },
      "source": [
        "X.shape, Y.shape"
      ],
      "execution_count": null,
      "outputs": [
        {
          "output_type": "execute_result",
          "data": {
            "text/plain": [
              "((100000, 287), (100000,))"
            ]
          },
          "metadata": {
            "tags": []
          },
          "execution_count": 170
        }
      ]
    },
    {
      "cell_type": "markdown",
      "metadata": {
        "id": "5CbXNnRWI8c7",
        "colab_type": "text"
      },
      "source": [
        "#To evaluate fit level i will be using Loss function. R^2. The main goal of this task is to find a model wihich will be maximize R2."
      ]
    },
    {
      "cell_type": "code",
      "metadata": {
        "id": "YG-rgtxMI8c9",
        "colab_type": "code",
        "colab": {}
      },
      "source": [
        "def metric(Y, Y_pred):\n",
        "    return metrics.r2_score(Y, Y_pred)"
      ],
      "execution_count": null,
      "outputs": []
    },
    {
      "cell_type": "code",
      "metadata": {
        "id": "RoAd0sMRI8di",
        "colab_type": "code",
        "colab": {}
      },
      "source": [
        "# below import of necessary libraries which I will use in this project\n",
        "from sklearn.metrics import r2_score\n",
        "\n",
        "from sklearn.preprocessing import scale\n",
        "from sklearn.preprocessing import StandardScaler\n",
        "\n",
        "from sklearn.decomposition import PCA\n",
        "from mlxtend.feature_selection import SequentialFeatureSelector as SFS\n",
        "\n",
        "from sklearn.linear_model import LinearRegression\n",
        "from sklearn.linear_model import Ridge\n",
        "from sklearn.linear_model import SGDRegressor\n",
        "\n",
        "from sklearn.feature_selection import SelectFromModel\n",
        "from sklearn.feature_selection import SelectKBest\n",
        "from sklearn.feature_selection import f_regression\n",
        "\n",
        "\n",
        "from sklearn.model_selection import train_test_split\n",
        "from sklearn.model_selection import GridSearchCV\n",
        "from sklearn.model_selection import KFold\n",
        "from sklearn.model_selection import cross_val_score\n",
        "\n",
        "from sklearn.pipeline import Pipeline\n",
        "from sklearn.pipeline import FeatureUnion\n",
        "import time\n"
      ],
      "execution_count": null,
      "outputs": []
    },
    {
      "cell_type": "code",
      "metadata": {
        "id": "YJS4zhMUI8d0",
        "colab_type": "code",
        "colab": {}
      },
      "source": [
        "linear_regression = LinearRegression()\n",
        "# scoring function for linear reggression\n",
        "def r2_est(X,y):\n",
        "    return r2_score(y, linear_regression.fit(X,y).predict(X))"
      ],
      "execution_count": null,
      "outputs": []
    },
    {
      "cell_type": "markdown",
      "metadata": {
        "id": "FEuyrxpkK282",
        "colab_type": "text"
      },
      "source": [
        "### decided to try PCA at first without dimension reduction, I just want to see how many dimensions it takes to achieve 95% variance. The answer is 5 :).\n"
      ]
    },
    {
      "cell_type": "code",
      "metadata": {
        "id": "MAX4LTYlI8eA",
        "colab_type": "code",
        "colab": {},
        "outputId": "86474d69-dfc6-4a3f-cdee-aa3438aacc99"
      },
      "source": [
        "pca = PCA()\n",
        "pca.fit(X)\n",
        "cumsum = np.cumsum(pca.explained_variance_ratio_)\n",
        "d = np.argmax(cumsum >= 0.95) + 1\n",
        "# d=5"
      ],
      "execution_count": null,
      "outputs": [
        {
          "output_type": "execute_result",
          "data": {
            "text/plain": [
              "5"
            ]
          },
          "metadata": {
            "tags": []
          },
          "execution_count": 221
        }
      ]
    },
    {
      "cell_type": "markdown",
      "metadata": {
        "id": "zX-QyQzhLTiy",
        "colab_type": "text"
      },
      "source": [
        "### below is a plot which nicely describing how variance level depends from dimmensions number."
      ]
    },
    {
      "cell_type": "code",
      "metadata": {
        "id": "q8fBL-H_I8eP",
        "colab_type": "code",
        "colab": {},
        "outputId": "0dcec3ae-92ce-44f3-8fc8-68ce4f30c4a8"
      },
      "source": [
        "f = plt.figure(figsize=(12, 5))\n",
        "plt.plot(cumsum[:50]);"
      ],
      "execution_count": null,
      "outputs": [
        {
          "output_type": "display_data",
          "data": {
            "image/png": "[encoded data removed]",
            "text/plain": [
              "<Figure size 864x360 with 1 Axes>"
            ]
          },
          "metadata": {
            "tags": [],
            "needs_background": "light"
          }
        }
      ]
    },
    {
      "cell_type": "markdown",
      "metadata": {
        "id": "oTUPJEejL3Yy",
        "colab_type": "text"
      },
      "source": [
        "### I created a simple function which I hope will tell me what is the optimal number of functions that I should use in the analysis"
      ]
    },
    {
      "cell_type": "code",
      "metadata": {
        "id": "myOSpBIwI8ed",
        "colab_type": "code",
        "colab": {}
      },
      "source": [
        "\n",
        "def feature_r2_curve(X,Y, n_f):\n",
        "    tic = time.perf_counter()\n",
        "    \n",
        "    ffs_r = []\n",
        "    pca_r =[]\n",
        "    sfs_r = []\n",
        "    skb_r = []\n",
        "\n",
        "    for i in range(1, n_f):\n",
        "        # feautre selection based on best fited featueres to lr model\n",
        "        features_selection = SelectFromModel(LinearRegression(), max_features=i)\n",
        "        features_selection.fit(X, Y)\n",
        "        features = list(X.columns[features_selection.get_support()])\n",
        "        X_ffs = X[features]\n",
        "        \n",
        "        # based on previos PCA analysis i know that i need only 5 dimmension if i want go deeper       \n",
        "        pca = PCA(n_components=i)\n",
        "        pca.fit(X)\n",
        "        pca_data = pca.transform(X)\n",
        "        pca_labels = ['pc_' + str(x) for x in range(1, i + 1)]\n",
        "        X_pca = pd.DataFrame(data = pca_data, columns=pca_labels)\n",
        "        \n",
        "        #here is use forward feature selection         \n",
        "        sfs = SFS(LinearRegression(), k_features=i, forward=True, floating=False, scoring = 'r2',cv = 0)\n",
        "        sfs.fit(X, Y)\n",
        "        features_lst = list(sfs.k_feature_names_)\n",
        "        X_sfs = X[features_lst]\n",
        "        \n",
        "        skb = SelectKBest(score_func=f_regression, k=i)\n",
        "        skb.fit(X, Y)\n",
        "        skb_f = list(X.columns[skb.get_support()])\n",
        "        X_skb = X[skb_f]\n",
        "        \n",
        "        r2_ffs = r2_est(X_ffs, Y)\n",
        "        r2_pca = r2_est(X_pca, Y)\n",
        "        r2_sfs = r2_est(X_sfs, Y)\n",
        "        r2_skb = r2_est(X_skb, Y)\n",
        "        \n",
        "        ffs_r.append(r2_ffs)\n",
        "        pca_r.append(r2_pca)\n",
        "        sfs_r.append(r2_sfs)\n",
        "        skb_r.append(r2_skb)\n",
        "        \n",
        "    toc = time.perf_counter()\n",
        "    print(f'operational time: {toc - tic:0.2f} seconds')\n",
        "    # function will return tabels for each method with r2 values\n",
        "    return [ffs_r, pca_r, sfs_r, skb_r]"
      ],
      "execution_count": null,
      "outputs": []
    },
    {
      "cell_type": "markdown",
      "metadata": {
        "id": "b4h80fOeNdR4",
        "colab_type": "text"
      },
      "source": [
        "### this function is similar like one before, but with this difference that this time i want only extract features which i will use in next step"
      ]
    },
    {
      "cell_type": "code",
      "metadata": {
        "id": "VBj3taKGI8el",
        "colab_type": "code",
        "colab": {}
      },
      "source": [
        "def feature_selection(X,Y, n_f=5):\n",
        "    \n",
        "    features_selection = SelectFromModel(LinearRegression(), max_features=n_f)\n",
        "    features_selection.fit(X, Y)\n",
        "    features = list(X.columns[features_selection.get_support()])\n",
        "    X_ffs = X[features]\n",
        "        \n",
        "    pca = PCA(n_components=n_f)\n",
        "    pca.fit(X)\n",
        "    pca_data = pca.transform(X)\n",
        "    pca_labels = ['pc_' + str(x) for x in range(1, n_f + 1)]\n",
        "    X_pca = pd.DataFrame(data = pca_data, columns=pca_labels)\n",
        "        \n",
        "    sfs = SFS(LinearRegression(), k_features=n_f, forward=True, floating=False, scoring = 'r2',cv = 0)\n",
        "    sfs.fit(X, Y)\n",
        "    features_lst = list(sfs.k_feature_names_)\n",
        "    X_sfs = X[features_lst]\n",
        "    \n",
        "    skb = SelectKBest(score_func=f_regression, k=n_f)\n",
        "    skb.fit(X, Y)\n",
        "    skb_f = list(X.columns[skb.get_support()])\n",
        "    X_skb = X[skb_f]\n",
        "    \n",
        "    return X_ffs, X_pca, X_sfs, X_skb\n"
      ],
      "execution_count": null,
      "outputs": []
    },
    {
      "cell_type": "code",
      "metadata": {
        "id": "tYRRgFf3I8ex",
        "colab_type": "code",
        "colab": {},
        "outputId": "d6a8ee0e-1073-4a9b-81fb-4c109a3c327f"
      },
      "source": [
        "feature_set = feature_r2_curve(X, Y, 15)"
      ],
      "execution_count": null,
      "outputs": [
        {
          "output_type": "stream",
          "text": [
            "operational time: 1046.29 seconds\n"
          ],
          "name": "stdout"
        }
      ]
    },
    {
      "cell_type": "markdown",
      "metadata": {
        "id": "ALo3753nN6qs",
        "colab_type": "text"
      },
      "source": [
        "### plot below shows that in many cases r2 reaches a value close to the maximum value what is correct with what i saw by using pca method."
      ]
    },
    {
      "cell_type": "code",
      "metadata": {
        "id": "8zJdFuidI8e5",
        "colab_type": "code",
        "colab": {},
        "outputId": "3717b0aa-7b8e-46b9-dc05-50b225898f44"
      },
      "source": [
        "pca_r = feature_set[0]\n",
        "ffs_r = feature_set[1]\n",
        "sfs_r = feature_set[2]\n",
        "skb_r = feature_set[3]\n",
        "\n",
        "fig = plt.figure(figsize=(15, 6))\n",
        "plt.plot(pca_r, c='r')\n",
        "plt.plot(ffs_r, c='g')\n",
        "plt.plot(sfs_r, c='b')\n",
        "plt.plot(skb_r, c='y');"
      ],
      "execution_count": null,
      "outputs": [
        {
          "output_type": "display_data",
          "data": {
            "image/png": "[encoded data removed]",
            "text/plain": [
              "<Figure size 1080x432 with 1 Axes>"
            ]
          },
          "metadata": {
            "tags": [],
            "needs_background": "light"
          }
        }
      ]
    },
    {
      "cell_type": "code",
      "metadata": {
        "id": "L3NBiK_FI8fB",
        "colab_type": "code",
        "colab": {}
      },
      "source": [
        "# compare ml algo to choose the best solutions\n",
        "\n",
        "def comparing_models(features_min, features_max):\n",
        "    # features preparation\n",
        "    for i in range(features_min, features_max+1):\n",
        "        print('number of features:', i)\n",
        "        feature_sel = feature_selection(X, Y, i)\n",
        "        X_ffs, X_pca, X_sfs, X_skb = feature_sel\n",
        "\n",
        "        features_selected = []\n",
        "        features_selected.append(('FFS', X_ffs))\n",
        "        features_selected.append(('SFS', X_sfs))\n",
        "        features_selected.append(('SKB', X_skb))\n",
        "\n",
        "        # models preparation\n",
        "        models = []\n",
        "        models.append(( 'LR' , LinearRegression()))\n",
        "        models.append(( 'RDG' , Ridge()))\n",
        "        models.append(( 'SGD' , SGDRegressor()))\n",
        "        \n",
        "        # valuation of each model for each iteration\n",
        "        results = []\n",
        "        names = []\n",
        "        fnames = []\n",
        "        scoring = 'r2'\n",
        "        for fname, features in features_selected:\n",
        "            print(fname)\n",
        "            for name, model in models:\n",
        "                # generally i picked the approach of testing different selection methods\n",
        "                # and at a later stage of training and testing the model, I will use the CV method\n",
        "                # due to the possibility of quickly dividing the data set into small processes, it seems to me that\n",
        "                # this method should produce a good fit model when used on new data with a similar distribution\n",
        "                kfold = KFold(n_splits=10) #  random_state=7, shuffle=True\n",
        "                cv_results = cross_val_score(model, features, Y, cv=kfold, scoring=scoring)\n",
        "                results.append(cv_results)\n",
        "                fnames.append(fname)\n",
        "                names.append(name)\n",
        "                msg = f'{name}: {cv_results.mean()} {(cv_results.std())}'\n",
        "                print(msg)\n",
        "        # comparative visualization\n",
        "        fig = plt.figure(figsize=(12,6))\n",
        "        fig.suptitle( 'Algorithm Comparison' )\n",
        "        ax = fig.add_subplot(111)\n",
        "        plt.boxplot(results)\n",
        "        ax.set_xticklabels(names)\n",
        "        plt.show()"
      ],
      "execution_count": null,
      "outputs": []
    },
    {
      "cell_type": "markdown",
      "metadata": {
        "id": "eG_Uv6viR1Au",
        "colab_type": "text"
      },
      "source": [
        "### the following visualization shows that the forward feature selection method seems to be at its best degree maximize the value of r2 linear regression models and linear modified regression (ridge), but because of the possibility seeking selection model selection Ridge ()\n",
        "\n"
      ]
    },
    {
      "cell_type": "code",
      "metadata": {
        "id": "UIrXMhRoI8fL",
        "colab_type": "code",
        "colab": {},
        "outputId": "4f41d787-391b-4237-98f8-b3ac480363af"
      },
      "source": [
        "comparing_models(2, 15)\n"
      ],
      "execution_count": null,
      "outputs": [
        {
          "output_type": "stream",
          "text": [
            "number of features: 2\n",
            "FFS\n",
            "LR: 0.07362766136766599 0.008082406783313088\n",
            "RDG: 0.07353754140689157 0.007866341012238803\n",
            "SGD: 0.07058845199016645 0.005879185574688601\n",
            "SFS\n",
            "LR: 0.14650467754412183 0.021413523124412793\n",
            "RDG: 0.14629181507661326 0.02058733519480855\n",
            "SGD: 0.021046453690730625 0.001625313927911821\n",
            "SKB\n",
            "LR: 0.14554178277102842 0.020832666824672455\n",
            "RDG: 0.1453890402197136 0.020157024476524083\n",
            "SGD: 0.025528540769267284 0.0019416236110662277\n"
          ],
          "name": "stdout"
        },
        {
          "output_type": "display_data",
          "data": {
            "image/png": "[encoded data removed]",
            "text/plain": [
              "<Figure size 864x432 with 1 Axes>"
            ]
          },
          "metadata": {
            "tags": [],
            "needs_background": "light"
          }
        },
        {
          "output_type": "stream",
          "text": [
            "number of features: 3\n",
            "FFS\n",
            "LR: 0.08242198339767805 0.009962369950744596\n",
            "RDG: 0.07787573774638396 0.008286191843859326\n",
            "SGD: 0.07323210181596249 0.006972403309729867\n",
            "SFS\n",
            "LR: 0.17018020283830562 0.020283618292304077\n",
            "RDG: 0.16997736588856835 0.019662312381352253\n",
            "SGD: 0.0434710976936877 0.004890280160625517\n",
            "SKB\n",
            "LR: 0.14574151534116334 0.0207269204559625\n",
            "RDG: 0.14468449526077123 0.020375392686633863\n",
            "SGD: 0.04874798029960349 0.0030619099294743753\n"
          ],
          "name": "stdout"
        },
        {
          "output_type": "display_data",
          "data": {
            "image/png": "[encoded data removed]",
            "text/plain": [
              "<Figure size 864x432 with 1 Axes>"
            ]
          },
          "metadata": {
            "tags": [],
            "needs_background": "light"
          }
        },
        {
          "output_type": "stream",
          "text": [
            "number of features: 4\n",
            "FFS\n",
            "LR: 0.08235264047537294 0.010023980749633716\n",
            "RDG: 0.07896986756425063 0.00844124367186761\n",
            "SGD: 0.07430686477891016 0.0076052773219250115\n",
            "SFS\n",
            "LR: 0.17743225954680958 0.018857233536855162\n",
            "RDG: 0.17714053461137325 0.018503067202980315\n",
            "SGD: 0.048030825479714837 0.00493036365854702\n",
            "SKB\n",
            "LR: 0.14602648515742664 0.021088131035829745\n",
            "RDG: 0.14506808985042471 0.02094345871499827\n",
            "SGD: 0.05930516679730132 0.004403293959984954\n"
          ],
          "name": "stdout"
        },
        {
          "output_type": "display_data",
          "data": {
            "image/png": "[encoded data removed]",
            "text/plain": [
              "<Figure size 864x432 with 1 Axes>"
            ]
          },
          "metadata": {
            "tags": [],
            "needs_background": "light"
          }
        },
        {
          "output_type": "stream",
          "text": [
            "number of features: 5\n",
            "FFS\n",
            "LR: 0.08336424982956393 0.010398530300174296\n",
            "RDG: 0.07929650038585746 0.00853447827375685\n",
            "SGD: 0.07430521130610082 0.00803367962322453\n",
            "SFS\n",
            "LR: 0.17412527895474 0.02717213936147949\n",
            "RDG: 0.17417433280402755 0.026331126323113394\n",
            "SGD: 0.05418942754335544 0.006151748326786561\n",
            "SKB\n",
            "LR: 0.1562624508742818 0.022528672118752226\n",
            "RDG: 0.15474816513167297 0.021860982294376923\n",
            "SGD: 0.09669386436113483 0.008048402482571873\n"
          ],
          "name": "stdout"
        },
        {
          "output_type": "display_data",
          "data": {
            "image/png": "[encoded data removed]",
            "text/plain": [
              "<Figure size 864x432 with 1 Axes>"
            ]
          },
          "metadata": {
            "tags": [],
            "needs_background": "light"
          }
        },
        {
          "output_type": "stream",
          "text": [
            "number of features: 6\n",
            "FFS\n",
            "LR: 0.08304243092304217 0.010668522612466579\n",
            "RDG: 0.07931839120375772 0.008548808548798546\n",
            "SGD: 0.0740295852787817 0.00764507586834948\n",
            "SFS\n",
            "LR: 0.17969913246803498 0.02147275838373026\n",
            "RDG: 0.17891499051299775 0.021890085416222282\n",
            "SGD: 0.06378916051093604 0.006596332447775915\n",
            "SKB\n",
            "LR: 0.15618709884879106 0.02260614383066528\n",
            "RDG: 0.15474823158736825 0.021863497551308658\n",
            "SGD: 0.10332483719826593 0.00901084390900536\n"
          ],
          "name": "stdout"
        },
        {
          "output_type": "display_data",
          "data": {
            "image/png": "[encoded data removed]",
            "text/plain": [
              "<Figure size 864x432 with 1 Axes>"
            ]
          },
          "metadata": {
            "tags": [],
            "needs_background": "light"
          }
        },
        {
          "output_type": "stream",
          "text": [
            "number of features: 7\n",
            "FFS\n",
            "LR: 0.08855866885744638 0.01148016092188008\n",
            "RDG: 0.0816342063655211 0.008985626759248234\n",
            "SGD: 0.07468186084942627 0.008306469187549886\n",
            "SFS\n",
            "LR: 0.1867737781125967 0.020190889102031494\n",
            "RDG: 0.18577994188657534 0.021314207866714806\n",
            "SGD: 0.10928980389210072 0.00896011723963567\n",
            "SKB\n",
            "LR: 0.1564721532335297 0.02245871092087203\n",
            "RDG: 0.15492455938955874 0.021782710002884478\n",
            "SGD: 0.10383971047470904 0.009746974928087829\n"
          ],
          "name": "stdout"
        },
        {
          "output_type": "display_data",
          "data": {
            "image/png": "[encoded data removed]",
            "text/plain": [
              "<Figure size 864x432 with 1 Axes>"
            ]
          },
          "metadata": {
            "tags": [],
            "needs_background": "light"
          }
        },
        {
          "output_type": "stream",
          "text": [
            "number of features: 8\n",
            "FFS\n",
            "LR: 0.08836659179327913 0.011536154041690855\n",
            "RDG: 0.08234027248153718 0.009158025386836867\n",
            "SGD: 0.07493675644729962 0.007674745129338708\n",
            "SFS\n",
            "LR: 0.1875755179405551 0.021776605455388787\n",
            "RDG: 0.18801747310994218 0.020113631305367148\n",
            "SGD: 0.11552122246265398 0.00949695515985461\n",
            "SKB\n",
            "LR: 0.15635809872291756 0.02251667140949583\n",
            "RDG: 0.1549298372401461 0.02176967942314043\n",
            "SGD: 0.10345486707819304 0.010174277543225366\n"
          ],
          "name": "stdout"
        },
        {
          "output_type": "display_data",
          "data": {
            "image/png": "[encoded data removed]",
            "text/plain": [
              "<Figure size 864x432 with 1 Axes>"
            ]
          },
          "metadata": {
            "tags": [],
            "needs_background": "light"
          }
        },
        {
          "output_type": "stream",
          "text": [
            "number of features: 9\n",
            "FFS\n",
            "LR: 0.09046542327026594 0.01054264801427228\n",
            "RDG: 0.08378254234613888 0.008488671278787361\n",
            "SGD: 0.07514999358432371 0.007949180235677403\n",
            "SFS\n",
            "LR: 0.18430817348907877 0.03172740038215543\n",
            "RDG: 0.1852141292729991 0.028312638374312565\n",
            "SGD: 0.11735665921558294 0.010108147843795203\n",
            "SKB\n",
            "LR: 0.1569530173992773 0.02240585497404535\n",
            "RDG: 0.15486343460614466 0.021753258398095575\n",
            "SGD: 0.10395613625192195 0.009695018129673863\n"
          ],
          "name": "stdout"
        },
        {
          "output_type": "display_data",
          "data": {
            "image/png": "[encoded data removed]",
            "text/plain": [
              "<Figure size 864x432 with 1 Axes>"
            ]
          },
          "metadata": {
            "tags": [],
            "needs_background": "light"
          }
        },
        {
          "output_type": "stream",
          "text": [
            "number of features: 10\n",
            "FFS\n",
            "LR: 0.09046734126482264 0.010540976771247322\n",
            "RDG: 0.08384171228955532 0.00841528441648468\n",
            "SGD: 0.07547104642115866 0.008379169833305491\n",
            "SFS\n",
            "LR: 0.18428243156759502 0.036042885561674315\n",
            "RDG: 0.1857575293611191 0.03072009650452046\n",
            "SGD: 0.11727468563030011 0.010452840398845274\n",
            "SKB\n",
            "LR: 0.15807755103825963 0.021964652152825417\n",
            "RDG: 0.15550454897033342 0.02161444083926884\n",
            "SGD: 0.10371849374513867 0.010396105596480288\n"
          ],
          "name": "stdout"
        },
        {
          "output_type": "display_data",
          "data": {
            "image/png": "[encoded data removed]",
            "text/plain": [
              "<Figure size 864x432 with 1 Axes>"
            ]
          },
          "metadata": {
            "tags": [],
            "needs_background": "light"
          }
        },
        {
          "output_type": "stream",
          "text": [
            "number of features: 11\n",
            "FFS\n",
            "LR: 0.0914958596297353 0.011243980540589258\n",
            "RDG: 0.08487670535771281 0.0088948106442309\n",
            "SGD: 0.07524525976784217 0.008396174949487486\n",
            "SFS\n",
            "LR: 0.1955112921307678 0.018220876038534443\n",
            "RDG: 0.19527550353323528 0.018442908628868437\n",
            "SGD: 0.09375751125191033 0.06931523308717612\n",
            "SKB\n",
            "LR: 0.15803012156559634 0.021958587702195772\n",
            "RDG: 0.1556847694354526 0.021571474617524667\n",
            "SGD: 0.10309866705163592 0.010602922413624304\n"
          ],
          "name": "stdout"
        },
        {
          "output_type": "display_data",
          "data": {
            "image/png": "[encoded data removed]",
            "text/plain": [
              "<Figure size 864x432 with 1 Axes>"
            ]
          },
          "metadata": {
            "tags": [],
            "needs_background": "light"
          }
        },
        {
          "output_type": "stream",
          "text": [
            "number of features: 12\n",
            "FFS\n",
            "LR: 0.09142576163590158 0.011273337772769685\n",
            "RDG: 0.08487793397484289 0.008903361759876558\n",
            "SGD: 0.07541193816845534 0.008496991182734346\n",
            "SFS\n",
            "LR: 0.1963820912887381 0.019102134579897123\n",
            "RDG: 0.19686543650192306 0.01898004435454058\n",
            "SGD: 0.09142248842499151 0.07191884143907411\n",
            "SKB\n",
            "LR: 0.15817262003480254 0.022139638992722806\n",
            "RDG: 0.15565464876216123 0.02151733472319456\n",
            "SGD: 0.10481446762344712 0.010580423981512226\n"
          ],
          "name": "stdout"
        },
        {
          "output_type": "display_data",
          "data": {
            "image/png": "[encoded data removed]",
            "text/plain": [
              "<Figure size 864x432 with 1 Axes>"
            ]
          },
          "metadata": {
            "tags": [],
            "needs_background": "light"
          }
        },
        {
          "output_type": "stream",
          "text": [
            "number of features: 13\n",
            "FFS\n",
            "LR: 0.09590792864693473 0.010857522200902955\n",
            "RDG: 0.08688598219730179 0.008957618071992935\n",
            "SGD: 0.07493908101437856 0.007578722497179464\n",
            "SFS\n",
            "LR: 0.19684888729610428 0.018950485456603675\n",
            "RDG: 0.19720400315490733 0.01890266323101668\n",
            "SGD: 0.09730798389276872 0.0806823067791202\n",
            "SKB\n",
            "LR: 0.1583311541800853 0.022243257383680718\n",
            "RDG: 0.1556371299850961 0.02153617154108243\n",
            "SGD: 0.10468821433942477 0.010335371555723205\n"
          ],
          "name": "stdout"
        },
        {
          "output_type": "display_data",
          "data": {
            "image/png": "[encoded data removed]",
            "text/plain": [
              "<Figure size 864x432 with 1 Axes>"
            ]
          },
          "metadata": {
            "tags": [],
            "needs_background": "light"
          }
        },
        {
          "output_type": "stream",
          "text": [
            "number of features: 14\n",
            "FFS\n",
            "LR: 0.09566859662884694 0.011102450457526194\n",
            "RDG: 0.08752898500093692 0.00899204612763741\n",
            "SGD: 0.07478722401770041 0.0072876887306895805\n",
            "SFS\n",
            "LR: 0.19739850755183339 0.019457139062624078\n",
            "RDG: 0.19784125129095906 0.018981598836684068\n",
            "SGD: 0.10198196204589935 0.07503651228097553\n",
            "SKB\n",
            "LR: 0.15969343133186759 0.022275639193691688\n",
            "RDG: 0.15567953020136127 0.02152863432081148\n",
            "SGD: 0.10394968375903366 0.00990131102364325\n"
          ],
          "name": "stdout"
        },
        {
          "output_type": "display_data",
          "data": {
            "image/png": "[encoded data removed]",
            "text/plain": [
              "<Figure size 864x432 with 1 Axes>"
            ]
          },
          "metadata": {
            "tags": [],
            "needs_background": "light"
          }
        },
        {
          "output_type": "stream",
          "text": [
            "number of features: 15\n",
            "FFS\n",
            "LR: 0.09563595341001113 0.011108222987643879\n",
            "RDG: 0.08772965596935198 0.008979070575714706\n",
            "SGD: 0.07527713287342071 0.007769038658384831\n",
            "SFS\n",
            "LR: 0.19651916142696707 0.026648817492389964\n",
            "RDG: 0.20086720991322315 0.01860221458788473\n",
            "SGD: 0.103810635745507 0.07185501633501651\n",
            "SKB\n",
            "LR: 0.15948516799981913 0.02237570398342206\n",
            "RDG: 0.1556956486985293 0.021527506267239094\n",
            "SGD: 0.10414597010369024 0.01028973951513485\n"
          ],
          "name": "stdout"
        },
        {
          "output_type": "display_data",
          "data": {
            "image/png": "[encoded data removed]",
            "text/plain": [
              "<Figure size 864x432 with 1 Axes>"
            ]
          },
          "metadata": {
            "tags": [],
            "needs_background": "light"
          }
        }
      ]
    },
    {
      "cell_type": "code",
      "metadata": {
        "id": "fDzisZ6EI8fX",
        "colab_type": "code",
        "colab": {},
        "outputId": "077521f2-947e-42c3-825e-36fd21bed919"
      },
      "source": [
        "# this workflow will help me to fit my model by finding right parameteres to it.\n",
        "# test for 5 dimmension\n",
        "X_sfs = feature_selection(X, Y, 5)[2]\n",
        "alphas = np.array([1,0.1,0.01,0.001,0.0001,0.00001, 0])\n",
        "param_grid = dict(alpha=alphas)\n",
        "scoring = 'r2'\n",
        "model = Ridge()\n",
        "grid = GridSearchCV(estimator=model, param_grid=param_grid, scoring=scoring)\n",
        "grid.fit(X_sfs, Y)\n",
        "print(grid.best_score_)\n",
        "print(grid.best_estimator_.alpha)"
      ],
      "execution_count": null,
      "outputs": [
        {
          "output_type": "stream",
          "text": [
            "0.1734420787803666\n",
            "0.1\n"
          ],
          "name": "stdout"
        }
      ]
    },
    {
      "cell_type": "code",
      "metadata": {
        "id": "92pjjkCeI8fl",
        "colab_type": "code",
        "colab": {},
        "outputId": "a9dc6a5d-9f82-41ac-fa02-6f2d636f27de"
      },
      "source": [
        "# test for 7 dimmension\n",
        "X_sfs = feature_selection(X, Y, 7)[2]\n",
        "alphas = np.array([1,0.1,0.01,0.001,0.0001,0])\n",
        "param_grid = dict(alpha=alphas)\n",
        "scoring = 'r2'\n",
        "model = Ridge()\n",
        "grid = GridSearchCV(estimator=model, param_grid=param_grid, scoring=scoring)\n",
        "grid.fit(X_sfs, Y)\n",
        "print(grid.best_score_)\n",
        "print(grid.best_estimator_.alpha)"
      ],
      "execution_count": null,
      "outputs": [
        {
          "output_type": "stream",
          "text": [
            "0.18629827181926165\n",
            "0.0\n"
          ],
          "name": "stdout"
        }
      ]
    },
    {
      "cell_type": "markdown",
      "metadata": {
        "id": "8HAIpihyP0K9",
        "colab_type": "text"
      },
      "source": [
        "# Model: A the end, i decided to use Ridge model, becouse i can fit model by using regularization.\n",
        "# Feature selection method: SFS, i decided to use only 5 dimmension, the main reason is that with this number of features i still can keep quite high level of r2 with alpha which is in that case 0.1\n",
        "## Selected featueres like below: "
      ]
    },
    {
      "cell_type": "code",
      "metadata": {
        "id": "GHRfhXgYI8fv",
        "colab_type": "code",
        "colab": {},
        "outputId": "2a49aaa6-3214-4d33-da98-8cfb10db8628"
      },
      "source": [
        "X_sfs.columns"
      ],
      "execution_count": null,
      "outputs": [
        {
          "output_type": "execute_result",
          "data": {
            "text/plain": [
              "Index(['f44', 'f95', 'f276', 'f280', 'f291'], dtype='object')"
            ]
          },
          "metadata": {
            "tags": []
          },
          "execution_count": 294
        }
      ]
    },
    {
      "cell_type": "markdown",
      "metadata": {
        "id": "lUURkeVOPtCy",
        "colab_type": "text"
      },
      "source": [
        "# Final workflow"
      ]
    },
    {
      "cell_type": "code",
      "metadata": {
        "id": "mCKkGEbBI8f7",
        "colab_type": "code",
        "colab": {}
      },
      "source": [
        "sfs = SFS(LinearRegression(), k_features=5, forward=True, floating=False, scoring = 'r2',cv = 0)\n",
        "sfs.fit(X, Y)\n",
        "features_lst = list(sfs.k_feature_names_)\n",
        "X_sfs = X[features_lst]\n",
        "model = Ridge(alpha=0.1)\n",
        "model.fit(X_sfs, Y)\n",
        "y_hat = model.predict(X_sfs)"
      ],
      "execution_count": null,
      "outputs": []
    },
    {
      "cell_type": "markdown",
      "metadata": {
        "id": "Iuy_LGZFPnuj",
        "colab_type": "text"
      },
      "source": [
        "# Final result:"
      ]
    },
    {
      "cell_type": "code",
      "metadata": {
        "id": "bMh8Xat1I8gD",
        "colab_type": "code",
        "colab": {},
        "outputId": "89889b0e-dc58-4aa5-d86a-7bbd140983c9"
      },
      "source": [
        "metric(Y, y_hat)"
      ],
      "execution_count": null,
      "outputs": [
        {
          "output_type": "execute_result",
          "data": {
            "text/plain": [
              "0.18098214563213144"
            ]
          },
          "metadata": {
            "tags": []
          },
          "execution_count": 302
        }
      ]
    },
    {
      "cell_type": "markdown",
      "metadata": {
        "id": "7g9vemlrPlKa",
        "colab_type": "text"
      },
      "source": [
        "# Snippet below should allow me to test my model on new data with similar distribution"
      ]
    },
    {
      "cell_type": "code",
      "metadata": {
        "id": "NdTsaG__I8gO",
        "colab_type": "code",
        "colab": {},
        "outputId": "631ccc05-fbf9-420e-f3c0-c62cb65a36f2"
      },
      "source": [
        "X_sfs = X[features_lst]\n",
        "yh = model.predict(X_sfs)\n",
        "metric(Y, yh)"
      ],
      "execution_count": null,
      "outputs": [
        {
          "output_type": "execute_result",
          "data": {
            "text/plain": [
              "0.18098214563213144"
            ]
          },
          "metadata": {
            "tags": []
          },
          "execution_count": 303
        }
      ]
    },
    {
      "cell_type": "code",
      "metadata": {
        "id": "TSboZOS3I8gV",
        "colab_type": "code",
        "colab": {}
      },
      "source": [
        ""
      ],
      "execution_count": null,
      "outputs": []
    }
  ]
}
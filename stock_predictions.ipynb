{
  "nbformat": 4,
  "nbformat_minor": 0,
  "metadata": {
    "colab": {
      "name": "Untitled0.ipynb",
      "provenance": [],
      "authorship_tag": "ABX9TyMyQuRoNvWp4/AR8+9GugOh",
      "include_colab_link": true
    },
    "kernelspec": {
      "name": "python3",
      "display_name": "Python 3"
    }
  },
  "cells": [
    {
      "cell_type": "markdown",
      "metadata": {
        "id": "view-in-github",
        "colab_type": "text"
      },
      "source": [
        "<a href=\"https://colab.research.google.com/github/bbbkbc/Python_in_Finance/blob/master/stock_predictions.ipynb\" target=\"_parent\"><img src=\"https://colab.research.google.com/assets/colab-badge.svg\" alt=\"Open In Colab\"/></a>"
      ]
    },
    {
      "cell_type": "markdown",
      "metadata": {
        "id": "uYEkA1nBbJ-S",
        "colab_type": "text"
      },
      "source": [
        "Program to stock prices predictions"
      ]
    },
    {
      "cell_type": "code",
      "metadata": {
        "id": "xSkmEr9_bIVG",
        "colab_type": "code",
        "colab": {}
      },
      "source": [
        "# dependencies\n",
        "import quandl\n",
        "import pandas as np\n",
        "import numpy as np\n",
        "from sklearn.linear_model import LinearRegression\n",
        "from sklearn.svm import SVR\n",
        "from sklearn.model_selection import train_test_split"
      ],
      "execution_count": 10,
      "outputs": []
    },
    {
      "cell_type": "code",
      "metadata": {
        "id": "n1NAArGWbiZv",
        "colab_type": "code",
        "colab": {
          "base_uri": "https://localhost:8080/",
          "height": 173
        },
        "outputId": "9e5b180f-57b8-4ea3-954c-913c04961f01"
      },
      "source": [
        "# first ned to load data to prediction purposes,\n",
        "# as a example i use Tesla stock\n",
        "df = quandl.get(\"WIKI/TSLA\")\n",
        "print(df.head())"
      ],
      "execution_count": 5,
      "outputs": [
        {
          "output_type": "stream",
          "text": [
            "             Open     High    Low  ...  Adj. Low  Adj. Close  Adj. Volume\n",
            "Date                               ...                                   \n",
            "2010-06-29  19.00  25.0000  17.54  ...     17.54       23.89   18766300.0\n",
            "2010-06-30  25.79  30.4192  23.30  ...     23.30       23.83   17187100.0\n",
            "2010-07-01  25.00  25.9200  20.27  ...     20.27       21.96    8218800.0\n",
            "2010-07-02  23.00  23.1000  18.71  ...     18.71       19.20    5139800.0\n",
            "2010-07-06  20.00  20.0000  15.83  ...     15.83       16.11    6866900.0\n",
            "\n",
            "[5 rows x 12 columns]\n"
          ],
          "name": "stdout"
        }
      ]
    },
    {
      "cell_type": "code",
      "metadata": {
        "id": "sHhYFZH3b9XH",
        "colab_type": "code",
        "colab": {
          "base_uri": "https://localhost:8080/",
          "height": 139
        },
        "outputId": "3473d0bb-7e8d-41e2-f1fe-07ffaccbe4da"
      },
      "source": [
        "# modify df, becouse i only want to use adj.close\n",
        "df = df[[\"Adj. Close\"]]\n",
        "print(df.head())"
      ],
      "execution_count": 7,
      "outputs": [
        {
          "output_type": "stream",
          "text": [
            "            Adj. Close\n",
            "Date                  \n",
            "2010-06-29       23.89\n",
            "2010-06-30       23.83\n",
            "2010-07-01       21.96\n",
            "2010-07-02       19.20\n",
            "2010-07-06       16.11\n"
          ],
          "name": "stdout"
        }
      ]
    },
    {
      "cell_type": "code",
      "metadata": {
        "id": "5KYphJpicYXV",
        "colab_type": "code",
        "colab": {
          "base_uri": "https://localhost:8080/",
          "height": 121
        },
        "outputId": "0ccee39a-9486-451f-e429-8dba1f17083e"
      },
      "source": [
        "# setting variable forecast_view to set number of days which i want to predict\n",
        "forecast_view = 30\n",
        "# create label (y) column, which also will be shifted by number of days which i want to predict\n",
        "df['Prediction'] = df[['Adj. Close']].shift(-forecast_view)\n"
      ],
      "execution_count": 15,
      "outputs": [
        {
          "output_type": "stream",
          "text": [
            "/usr/local/lib/python3.6/dist-packages/ipykernel_launcher.py:4: SettingWithCopyWarning: \n",
            "A value is trying to be set on a copy of a slice from a DataFrame.\n",
            "Try using .loc[row_indexer,col_indexer] = value instead\n",
            "\n",
            "See the caveats in the documentation: https://pandas.pydata.org/pandas-docs/stable/user_guide/indexing.html#returning-a-view-versus-a-copy\n",
            "  after removing the cwd from sys.path.\n"
          ],
          "name": "stderr"
        }
      ]
    },
    {
      "cell_type": "code",
      "metadata": {
        "id": "gJU5hKxpddUq",
        "colab_type": "code",
        "colab": {
          "base_uri": "https://localhost:8080/",
          "height": 139
        },
        "outputId": "f4304eee-56aa-4e24-cfc7-e9c7b3faafc5"
      },
      "source": [
        "print(df.tail())"
      ],
      "execution_count": 16,
      "outputs": [
        {
          "output_type": "stream",
          "text": [
            "            Adj. Close  Prediction\n",
            "Date                              \n",
            "2018-03-21      316.53         NaN\n",
            "2018-03-22      309.10         NaN\n",
            "2018-03-23      301.54         NaN\n",
            "2018-03-26      304.18         NaN\n",
            "2018-03-27      279.18         NaN\n"
          ],
          "name": "stdout"
        }
      ]
    },
    {
      "cell_type": "code",
      "metadata": {
        "id": "OPBTxQdrd7Ea",
        "colab_type": "code",
        "colab": {}
      },
      "source": [
        "# Now i create features data set (X)\n",
        "X = np.array(df.drop(['Prediction'],1))\n",
        "# Remove 'n' rows\n",
        "X = X[:-forecast_view]"
      ],
      "execution_count": 17,
      "outputs": []
    },
    {
      "cell_type": "code",
      "metadata": {
        "id": "uJHI1gGdej4J",
        "colab_type": "code",
        "colab": {}
      },
      "source": [
        "# Create label data set (y)\n",
        "y = np.array(df['Prediction'])\n",
        "# remove 'n values\n",
        "y = y[:-forecast_view]"
      ],
      "execution_count": 19,
      "outputs": []
    },
    {
      "cell_type": "code",
      "metadata": {
        "id": "EtkJCNfne3P0",
        "colab_type": "code",
        "colab": {}
      },
      "source": [
        "## preprocessing data to future purpose, by spliting data size into 2 parts\n",
        "x_train, x_test, y_train, y_test = train_test_split(X, y, test_size=0.2)"
      ],
      "execution_count": 20,
      "outputs": []
    },
    {
      "cell_type": "code",
      "metadata": {
        "id": "ik-fHRd0fmc-",
        "colab_type": "code",
        "colab": {
          "base_uri": "https://localhost:8080/",
          "height": 52
        },
        "outputId": "c166ffdb-0524-4cb3-ab4d-3cd7b43737c6"
      },
      "source": [
        "# build and train model svm(regressor)\n",
        "svr_rbf = SVR(kernel='rbf', C=1e3, gamma=0.1)\n",
        "svr_rbf.fit(x_train, y_train)"
      ],
      "execution_count": 21,
      "outputs": [
        {
          "output_type": "execute_result",
          "data": {
            "text/plain": [
              "SVR(C=1000.0, cache_size=200, coef0=0.0, degree=3, epsilon=0.1, gamma=0.1,\n",
              "    kernel='rbf', max_iter=-1, shrinking=True, tol=0.001, verbose=False)"
            ]
          },
          "metadata": {
            "tags": []
          },
          "execution_count": 21
        }
      ]
    },
    {
      "cell_type": "code",
      "metadata": {
        "id": "eGv9o6jkgBk0",
        "colab_type": "code",
        "colab": {
          "base_uri": "https://localhost:8080/",
          "height": 34
        },
        "outputId": "9f8c433a-248c-465b-f946-6a6106896bf9"
      },
      "source": [
        "# testing model, based on score r2 score, max value = 1\n",
        "svr_acc = svr_rbf.score(x_test, y_test)\n",
        "print(\"svr accuracy:\", svr_acc)"
      ],
      "execution_count": 22,
      "outputs": [
        {
          "output_type": "stream",
          "text": [
            "svr accuracy: 0.9662606269684187\n"
          ],
          "name": "stdout"
        }
      ]
    },
    {
      "cell_type": "code",
      "metadata": {
        "id": "2QudcAYrgkzS",
        "colab_type": "code",
        "colab": {
          "base_uri": "https://localhost:8080/",
          "height": 34
        },
        "outputId": "78cb43ee-cfab-41e2-873b-c12ad59061d3"
      },
      "source": [
        "# second model i will train and test is LR model\n",
        "lr = LinearRegression()\n",
        "lr.fit(x_train, y_train)"
      ],
      "execution_count": 24,
      "outputs": [
        {
          "output_type": "execute_result",
          "data": {
            "text/plain": [
              "LinearRegression(copy_X=True, fit_intercept=True, n_jobs=None, normalize=False)"
            ]
          },
          "metadata": {
            "tags": []
          },
          "execution_count": 24
        }
      ]
    },
    {
      "cell_type": "code",
      "metadata": {
        "id": "-MUiuFvuguda",
        "colab_type": "code",
        "colab": {
          "base_uri": "https://localhost:8080/",
          "height": 34
        },
        "outputId": "dc3bae0b-4e6f-4270-f4d0-74db352aa5f0"
      },
      "source": [
        "# testing model, the same score as previos\n",
        "lr_acc = lr.score(x_test, y_test)\n",
        "print(\"lr accuracy: \", lr_acc)"
      ],
      "execution_count": 25,
      "outputs": [
        {
          "output_type": "stream",
          "text": [
            "lr accuracy:  0.9528249635171071\n"
          ],
          "name": "stdout"
        }
      ]
    },
    {
      "cell_type": "code",
      "metadata": {
        "id": "yAcs9wuOhAVI",
        "colab_type": "code",
        "colab": {}
      },
      "source": [
        "# first model looks better\n",
        "# setting forecast to the last 30 rows of the orginal data set\n",
        "forecast = np.array(df.drop(['Prediction'],1))[-forecast_view:]"
      ],
      "execution_count": 26,
      "outputs": []
    },
    {
      "cell_type": "code",
      "metadata": {
        "id": "QBflL9eMhZoy",
        "colab_type": "code",
        "colab": {}
      },
      "source": [
        "# creating prediction based on svr model and lr model\n",
        "svr_rbf_prediction = svr_rbf.predict(forecast)\n",
        "lr_prediction = lr.predict(forecast)"
      ],
      "execution_count": 28,
      "outputs": []
    },
    {
      "cell_type": "code",
      "metadata": {
        "id": "f1ZPSxKchtNz",
        "colab_type": "code",
        "colab": {
          "base_uri": "https://localhost:8080/",
          "height": 282
        },
        "outputId": "9ad0f2b1-4286-4f83-f793-2cfede9484c2"
      },
      "source": [
        "# quick compare of two models\n",
        "import matplotlib.pyplot as plt\n",
        "%matplotlib inline\n",
        "\n",
        "plt.plot(lr_prediction)\n",
        "plt.plot(svr_rbf_prediction)"
      ],
      "execution_count": 40,
      "outputs": [
        {
          "output_type": "execute_result",
          "data": {
            "text/plain": [
              "[<matplotlib.lines.Line2D at 0x7fb61a88d978>]"
            ]
          },
          "metadata": {
            "tags": []
          },
          "execution_count": 40
        },
        {
          "output_type": "display_data",
          "data": {
            "image/png": "[encoded data removed]",
            "text/plain": [
              "<Figure size 432x288 with 1 Axes>"
            ]
          },
          "metadata": {
            "tags": [],
            "needs_background": "light"
          }
        }
      ]
    }
  ]
}